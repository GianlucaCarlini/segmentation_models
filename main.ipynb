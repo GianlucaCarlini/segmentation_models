{
 "cells": [
  {
   "cell_type": "code",
   "execution_count": 1,
   "metadata": {},
   "outputs": [],
   "source": [
    "from core.transformers import Swin_Unet\n",
    "import tensorflow as tf\n",
    "import numpy as np\n",
    "import cv2\n",
    "from core import blocks\n",
    "from core.metrics import BinaryIoU, FScore, MeanIoU"
   ]
  },
  {
   "cell_type": "code",
   "execution_count": 2,
   "metadata": {},
   "outputs": [],
   "source": [
    "model = Swin_Unet(\n",
    "    (256, 256, 3),\n",
    "    classes=1,\n",
    "    patch_size=(2, 2),\n",
    "    embed_dim=32,\n",
    "    window_size=8,\n",
    "    depths=[2, 2, 2, 4, 2],\n",
    "    num_heads=[3, 6, 12, 12, 24],\n",
    ")\n"
   ]
  },
  {
   "cell_type": "code",
   "execution_count": 3,
   "metadata": {},
   "outputs": [
    {
     "name": "stdout",
     "output_type": "stream",
     "text": [
      "Model: \"swin_tiny_224\"\n",
      "__________________________________________________________________________________________________\n",
      " Layer (type)                   Output Shape         Param #     Connected to                     \n",
      "==================================================================================================\n",
      " input_1 (InputLayer)           [(None, 256, 256, 3  0           []                               \n",
      "                                )]                                                                \n",
      "                                                                                                  \n",
      " patch_embed (PatchEmbed)       (None, 16384, 32)    480         ['input_1[0][0]']                \n",
      "                                                                                                  \n",
      " dropout (Dropout)              (None, 16384, 32)    0           ['patch_embed[0][0]']            \n",
      "                                                                                                  \n",
      " stage_0_block_0 (SwinTransform  (None, 16384, 32)   17475       ['dropout[0][0]']                \n",
      " erBlock)                                                                                         \n",
      "                                                                                                  \n",
      " stage_0_block_1 (SwinTransform  (None, 16384, 32)   1066051     ['stage_0_block_0[0][0]']        \n",
      " erBlock)                                                                                         \n",
      "                                                                                                  \n",
      " stage_0_PatchMerging_2X (Patch  (None, 4096, 64)    8448        ['stage_0_block_1[0][0]']        \n",
      " Merging)                                                                                         \n",
      "                                                                                                  \n",
      " stage_1_block_0 (SwinTransform  (None, 4096, 64)    55430       ['stage_0_PatchMerging_2X[0][0]']\n",
      " erBlock)                                                                                         \n",
      "                                                                                                  \n",
      " stage_1_block_1 (SwinTransform  (None, 4096, 64)    317574      ['stage_1_block_0[0][0]']        \n",
      " erBlock)                                                                                         \n",
      "                                                                                                  \n",
      " stage_1_PatchMerging_2X (Patch  (None, 1024, 128)   33280       ['stage_1_block_1[0][0]']        \n",
      " Merging)                                                                                         \n",
      "                                                                                                  \n",
      " stage_2_block_0 (SwinTransform  (None, 1024, 128)   205068      ['stage_1_PatchMerging_2X[0][0]']\n",
      " erBlock)                                                                                         \n",
      "                                                                                                  \n",
      " stage_2_block_1 (SwinTransform  (None, 1024, 128)   270604      ['stage_2_block_0[0][0]']        \n",
      " erBlock)                                                                                         \n",
      "                                                                                                  \n",
      " stage_2_PatchMerging_2X (Patch  (None, 256, 256)    132096      ['stage_2_block_1[0][0]']        \n",
      " Merging)                                                                                         \n",
      "                                                                                                  \n",
      " stage_3_block_0 (SwinTransform  (None, 256, 256)    796556      ['stage_2_PatchMerging_2X[0][0]']\n",
      " erBlock)                                                                                         \n",
      "                                                                                                  \n",
      " stage_3_block_1 (SwinTransform  (None, 256, 256)    812940      ['stage_3_block_0[0][0]']        \n",
      " erBlock)                                                                                         \n",
      "                                                                                                  \n",
      " stage_3_block_2 (SwinTransform  (None, 256, 256)    796556      ['stage_3_block_1[0][0]']        \n",
      " erBlock)                                                                                         \n",
      "                                                                                                  \n",
      " stage_3_block_3 (SwinTransform  (None, 256, 256)    812940      ['stage_3_block_2[0][0]']        \n",
      " erBlock)                                                                                         \n",
      "                                                                                                  \n",
      " stage_3_PatchMerging_2X (Patch  (None, 64, 512)     526336      ['stage_3_block_3[0][0]']        \n",
      " Merging)                                                                                         \n",
      "                                                                                                  \n",
      " stage_4_block_0 (SwinTransform  (None, 64, 512)     3161880     ['stage_3_PatchMerging_2X[0][0]']\n",
      " erBlock)                                                                                         \n",
      "                                                                                                  \n",
      " stage_4_block_1 (SwinTransform  (None, 64, 512)     3161880     ['stage_4_block_0[0][0]']        \n",
      " erBlock)                                                                                         \n",
      "                                                                                                  \n",
      " decoder_0_PatchExpanding_2X (P  (None, 256, 256)    33024       ['stage_4_block_1[0][0]']        \n",
      " atchExpanding)                                                                                   \n",
      "                                                                                                  \n",
      " decoder_0_concat (Concatenate)  (None, 256, 512)    0           ['decoder_0_PatchExpanding_2X[0][\n",
      "                                                                 0]',                             \n",
      "                                                                  'stage_3_block_3[0][0]']        \n",
      "                                                                                                  \n",
      " decoder_0_projection (Dense)   (None, 256, 256)     131072      ['decoder_0_concat[0][0]']       \n",
      "                                                                                                  \n",
      " decoder_0_block_0 (SwinTransfo  (None, 256, 256)    799256      ['decoder_0_projection[0][0]']   \n",
      " rmerBlock)                                                                                       \n",
      "                                                                                                  \n",
      " decoder_0_block_1 (SwinTransfo  (None, 256, 256)    815640      ['decoder_0_block_0[0][0]']      \n",
      " rmerBlock)                                                                                       \n",
      "                                                                                                  \n",
      " decoder_1_PatchExpanding_2X (P  (None, 1024, 128)   8320        ['decoder_0_block_1[0][0]']      \n",
      " atchExpanding)                                                                                   \n",
      "                                                                                                  \n",
      " decoder_1_concat (Concatenate)  (None, 1024, 256)   0           ['decoder_1_PatchExpanding_2X[0][\n",
      "                                                                 0]',                             \n",
      "                                                                  'stage_2_block_1[0][0]']        \n",
      "                                                                                                  \n",
      " decoder_1_projection (Dense)   (None, 1024, 128)    32768       ['decoder_1_concat[0][0]']       \n",
      "                                                                                                  \n",
      " decoder_1_block_0 (SwinTransfo  (None, 1024, 128)   205068      ['decoder_1_projection[0][0]']   \n",
      " rmerBlock)                                                                                       \n",
      "                                                                                                  \n",
      " decoder_1_block_1 (SwinTransfo  (None, 1024, 128)   270604      ['decoder_1_block_0[0][0]']      \n",
      " rmerBlock)                                                                                       \n",
      "                                                                                                  \n",
      " decoder_2_PatchExpanding_2X (P  (None, 4096, 64)    2112        ['decoder_1_block_1[0][0]']      \n",
      " atchExpanding)                                                                                   \n",
      "                                                                                                  \n",
      " decoder_2_concat (Concatenate)  (None, 4096, 128)   0           ['decoder_2_PatchExpanding_2X[0][\n",
      "                                                                 0]',                             \n",
      "                                                                  'stage_1_block_1[0][0]']        \n",
      "                                                                                                  \n",
      " decoder_2_projection (Dense)   (None, 4096, 64)     8192        ['decoder_2_concat[0][0]']       \n",
      "                                                                                                  \n",
      " decoder_2_block_0 (SwinTransfo  (None, 4096, 64)    56780       ['decoder_2_projection[0][0]']   \n",
      " rmerBlock)                                                                                       \n",
      "                                                                                                  \n",
      " decoder_2_block_1 (SwinTransfo  (None, 4096, 64)    318924      ['decoder_2_block_0[0][0]']      \n",
      " rmerBlock)                                                                                       \n",
      "                                                                                                  \n",
      " decoder_3_PatchExpanding_2X (P  (None, 16384, 32)   544         ['decoder_2_block_1[0][0]']      \n",
      " atchExpanding)                                                                                   \n",
      "                                                                                                  \n",
      " decoder_3_concat (Concatenate)  (None, 16384, 64)   0           ['decoder_3_PatchExpanding_2X[0][\n",
      "                                                                 0]',                             \n",
      "                                                                  'stage_0_block_1[0][0]']        \n",
      "                                                                                                  \n",
      " decoder_3_projection (Dense)   (None, 16384, 32)    2048        ['decoder_3_concat[0][0]']       \n",
      "                                                                                                  \n",
      " decoder_3_block_0 (SwinTransfo  (None, 16384, 32)   18150       ['decoder_3_projection[0][0]']   \n",
      " rmerBlock)                                                                                       \n",
      "                                                                                                  \n",
      " decoder_3_block_1 (SwinTransfo  (None, 16384, 32)   1066726     ['decoder_3_block_0[0][0]']      \n",
      " rmerBlock)                                                                                       \n",
      "                                                                                                  \n",
      " decoder_final_PatchExpanding_2  (None, 65536, 16)   144         ['decoder_3_block_1[0][0]']      \n",
      " X (PatchExpanding)                                                                               \n",
      "                                                                                                  \n",
      " tf.reshape (TFOpLambda)        (None, 256, 256, 16  0           ['decoder_final_PatchExpanding_2X\n",
      "                                )                                [0][0]']                         \n",
      "                                                                                                  \n",
      " output_conv_layer (Conv2D)     (None, 256, 256, 16  2320        ['tf.reshape[0][0]']             \n",
      "                                )                                                                 \n",
      "                                                                                                  \n",
      " final_conv (Conv2D)            (None, 256, 256, 1)  17          ['output_conv_layer[0][0]']      \n",
      "                                                                                                  \n",
      "==================================================================================================\n",
      "Total params: 15,947,303\n",
      "Trainable params: 13,063,719\n",
      "Non-trainable params: 2,883,584\n",
      "__________________________________________________________________________________________________\n"
     ]
    }
   ],
   "source": [
    "model.summary()"
   ]
  },
  {
   "cell_type": "code",
   "execution_count": 4,
   "metadata": {},
   "outputs": [],
   "source": [
    "cloned = tf.keras.models.clone_model(model)"
   ]
  },
  {
   "attachments": {},
   "cell_type": "markdown",
   "metadata": {},
   "source": [
    "### Verify that metrics are consistent"
   ]
  },
  {
   "cell_type": "code",
   "execution_count": 25,
   "metadata": {},
   "outputs": [
    {
     "data": {
      "text/plain": [
       "((-0.5, 255.5, 255.5, -0.5), (-0.5, 255.5, 255.5, -0.5))"
      ]
     },
     "execution_count": 25,
     "metadata": {},
     "output_type": "execute_result"
    },
    {
     "data": {
      "image/png": "[encoded data removed]",
      "text/plain": [
       "<Figure size 720x720 with 2 Axes>"
      ]
     },
     "metadata": {
      "needs_background": "light"
     },
     "output_type": "display_data"
    }
   ],
   "source": [
    "import matplotlib.pyplot as plt\n",
    "\n",
    "\n",
    "x = np.zeros(shape=(256, 256, 1), dtype=np.float32)\n",
    "y = np.zeros(shape=(256, 256, 1), dtype=np.float32)\n",
    "\n",
    "coords_x = np.random.randint(low=0, high=256, size=2)\n",
    "coords_y = np.random.randint(low=0, high=256, size=2)\n",
    "\n",
    "cv2.circle(x, coords_x, radius=100, color=1, thickness=-1)\n",
    "cv2.circle(y, coords_y, radius=100, color=1, thickness=-1)\n",
    "\n",
    "fig, (ax1, ax2) = plt.subplots(1, 2, figsize=(10, 10))\n",
    "ax1.imshow(x, cmap='gray')\n",
    "ax2.imshow(y, cmap='gray')\n",
    "ax1.axis('off'), ax2.axis('off')"
   ]
  },
  {
   "cell_type": "code",
   "execution_count": 19,
   "metadata": {},
   "outputs": [],
   "source": [
    "x = np.expand_dims(x, axis=0)\n",
    "y = np.expand_dims(y, axis=0)\n",
    "\n",
    "tf_iou = tf.keras.metrics.BinaryIoU(target_class_ids=[1])\n",
    "tf_iou.update_state(x, y)\n",
    "\n",
    "my_iou = BinaryIoU(threshold=0.5)\n",
    "my_iou.update_state(x, y)\n",
    "\n",
    "np.testing.assert_allclose(tf_iou.result(), my_iou.result())"
   ]
  },
  {
   "cell_type": "code",
   "execution_count": 20,
   "metadata": {},
   "outputs": [],
   "source": [
    "tf_iou = tf.keras.metrics.BinaryIoU(target_class_ids=[0, 1])\n",
    "tf_iou.update_state(x, y)\n",
    "\n",
    "my_iou = MeanIoU(classes=2, threshold=0.5, sparse_y_true=True, sparse_y_pred=True)\n",
    "my_iou.update_state(x, y)\n",
    "\n",
    "np.testing.assert_allclose(tf_iou.result(), my_iou.result())"
   ]
  },
  {
   "cell_type": "code",
   "execution_count": 27,
   "metadata": {},
   "outputs": [],
   "source": [
    "from sklearn.metrics import f1_score\n",
    "\n",
    "my_f1 = FScore()\n",
    "my_f1.update_state(x, y)\n",
    "\n",
    "sk_f1 = f1_score(x.ravel(), y.ravel())\n",
    "\n",
    "np.testing.assert_allclose(sk_f1, my_f1.result())"
   ]
  },
  {
   "cell_type": "code",
   "execution_count": null,
   "metadata": {},
   "outputs": [],
   "source": []
  }
 ],
 "metadata": {
  "kernelspec": {
   "display_name": "Python 3.9.7 ('tf-gpu')",
   "language": "python",
   "name": "python3"
  },
  "language_info": {
   "codemirror_mode": {
    "name": "ipython",
    "version": 3
   },
   "file_extension": ".py",
   "mimetype": "text/x-python",
   "name": "python",
   "nbconvert_exporter": "python",
   "pygments_lexer": "ipython3",
   "version": "3.9.7"
  },
  "orig_nbformat": 4,
  "vscode": {
   "interpreter": {
    "hash": "7b1dbf4bc4055d0afd569669a06785bae84b2a04d75fc78203fc0b7187b3d05e"
   }
  }
 },
 "nbformat": 4,
 "nbformat_minor": 2
}
